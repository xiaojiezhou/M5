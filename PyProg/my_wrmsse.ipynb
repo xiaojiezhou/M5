{
 "cells": [
  {
   "cell_type": "markdown",
   "metadata": {},
   "source": [
    "# WRMSSE calculations without overhead\n",
    "\n",
    "This notebook is based on amazing [for_Japanese_beginner(with WRMSSE in LGBM))](https://www.kaggle.com/girmdshinsei/for-japanese-beginner-with-wrmsse-in-lgbm) and [RMSE and WRMSSE of a submission](https://www.kaggle.com/chameleontk/rmse-and-wrmsse-of-a-submission)\n",
    "\n",
    "Custom loss function requires quick calculations of WRMSSE. This notebook attempts to make a quick and clear WRMSEE calculation function with pickled S,W weights and pickled csr_matrix for swift rollups.\n",
    "\n",
    "Note: Difference in rolled up vectors is equal to their rolled up difference:\n",
    "\n",
    "\\begin{equation}\n",
    " Y\\times M - \\hat{Y}\\times M= (Y-\\hat{Y}) \\times M = D\n",
    "\\end{equation}\n",
    "\n",
    "The rest of the calculations are the same:\n",
    "\n",
    "\\begin{equation}\n",
    "WRMSSE = \\sum_{i=1}^{42840} \\left(\\frac{W_i}{\\sqrt{S_i}} \\times \\sqrt{\\sum{(D)^2}}\\right)\n",
    "\\end{equation}\n",
    "\n",
    "Note that the real weights are W/sqrt(S) this is important for weights evaluations. Besides a single precalulated weight can be used for faster calculations.\n",
    "Similar stuff in code:\n",
    "\n",
    "```\n",
    "roll_diff = rollup(preds.values-y_true.values)\n",
    "\n",
    "SW = W/np.sqrt(S)\n",
    "\n",
    "score = np.sum(\n",
    "                np.sqrt(\n",
    "                    np.mean(\n",
    "                        np.square(roll_diff)\n",
    "                            ,axis=1)) * SW)\n",
    "```\n",
    "\n",
    "Where S are weights based on sequence length, W are weights based on sales in USD for the 28 days.\n",
    "\n",
    "\n",
    "PS: The S and W weights has been compared with well tested [wrmsse-evaluator](https://www.kaggle.com/dhananjay3/wrmsse-evaluator-with-extra-features) and the original weights. Please let me know in the comments if you spot any mistakes.\n",
    "\n",
    "PPS: Please note: I have made a tiny mistake in WRMSSE function: should be /12 not x12 at the end. Updated."
   ]
  },
  {
   "cell_type": "code",
   "execution_count": 1,
   "metadata": {
    "_cell_guid": "b1076dfc-b9ad-4769-8c92-a6c4dae69d19",
    "_uuid": "8f2839f25d086af736a60e9eeb907d3b93b6e0e5"
   },
   "outputs": [
    {
     "name": "stdout",
     "output_type": "stream",
     "text": [
      "M5-Competitors-Guide-Final-10-March-2020.docx\r\n",
      "M5-Competitors-Guide-Final-10-March-2020.pdf\r\n",
      "\u001b[34mPyProg\u001b[m\u001b[m\r\n",
      "README.md\r\n",
      "\u001b[34mRProg\u001b[m\u001b[m\r\n",
      "\u001b[34madata\u001b[m\u001b[m\r\n",
      "\u001b[34mcatboost_info\u001b[m\u001b[m\r\n",
      "\u001b[34mrawdata\u001b[m\u001b[m\r\n",
      "\u001b[34mresults\u001b[m\u001b[m\r\n",
      "sw_df.pkl\r\n",
      "\u001b[34mus-natural-disaster-declarations\u001b[m\u001b[m\r\n",
      "~$-Competitors-Guide-Final-10-March-2020.docx\r\n"
     ]
    }
   ],
   "source": [
    "import numpy as np\n",
    "import pandas as pd\n",
    "from sklearn.metrics import mean_squared_error\n",
    "from scipy.sparse import csr_matrix\n",
    "import gc\n",
    "\n",
    "import os\n",
    "path='/Users/x644435/Documents/Private/Kaggle/M5'\n",
    "os.chdir(path)\n",
    "!ls"
   ]
  },
  {
   "cell_type": "code",
   "execution_count": 2,
   "metadata": {
    "_cell_guid": "79c7e3d0-c299-4dcb-8224-4455121ee9b0",
    "_uuid": "d629ff2d2480ee46fbb7e2d37f6b5fab8052498a"
   },
   "outputs": [],
   "source": [
    "# Memory reduction helper function:\n",
    "def reduce_mem_usage(df, verbose=True):\n",
    "    numerics = ['int16', 'int32', 'int64', 'float16', 'float32', 'float64']\n",
    "    start_mem = df.memory_usage().sum() / 1024**2    \n",
    "    for col in df.columns: #columns\n",
    "        col_type = df[col].dtypes\n",
    "        if col_type in numerics: #numerics\n",
    "            c_min = df[col].min()\n",
    "            c_max = df[col].max()\n",
    "            if str(col_type)[:3] == 'int':\n",
    "                if c_min > np.iinfo(np.int8).min and c_max < np.iinfo(np.int8).max:\n",
    "                    df[col] = df[col].astype(np.int8)\n",
    "                elif c_min > np.iinfo(np.int16).min and c_max < np.iinfo(np.int16).max:\n",
    "                    df[col] = df[col].astype(np.int16)\n",
    "                elif c_min > np.iinfo(np.int32).min and c_max < np.iinfo(np.int32).max:\n",
    "                    df[col] = df[col].astype(np.int32)\n",
    "                elif c_min > np.iinfo(np.int64).min and c_max < np.iinfo(np.int64).max:\n",
    "                    df[col] = df[col].astype(np.int64)  \n",
    "            else:\n",
    "                if c_min > np.finfo(np.float16).min and c_max < np.finfo(np.float16).max:\n",
    "                    df[col] = df[col].astype(np.float16)\n",
    "                elif c_min > np.finfo(np.float32).min and c_max < np.finfo(np.float32).max:\n",
    "                    df[col] = df[col].astype(np.float32)\n",
    "                else:\n",
    "                    df[col] = df[col].astype(np.float64)    \n",
    "    end_mem = df.memory_usage().sum() / 1024**2\n",
    "    if verbose: print('Mem. usage decreased to {:5.2f} Mb ({:.1f}% reduction)'.format(end_mem, 100 * (start_mem - end_mem) / start_mem))\n",
    "    return df"
   ]
  },
  {
   "cell_type": "markdown",
   "metadata": {},
   "source": [
    "# WRMSSE\n",
    "\n",
    "If you just need to calculate WRMSEE with default weights S, W, simply load them and use the function below."
   ]
  },
  {
   "cell_type": "markdown",
   "metadata": {},
   "source": [
    "### Load wieghts for WRMSSE calculations:"
   ]
  },
  {
   "cell_type": "code",
   "execution_count": 4,
   "metadata": {},
   "outputs": [],
   "source": [
    "# Define fold pass here:\n",
    "file_pass = 'adata/'# '/kaggle/input/fast-wrmsse-and-sw-frame/'\n",
    "\n",
    "# Load S and W weights for WRMSSE calcualtions:\n",
    "sw_df = pd.read_pickle(file_pass+'sw_df.pkl')\n",
    "S = sw_df.s.values\n",
    "W = sw_df.w.values\n",
    "SW = sw_df.sw.values\n",
    "\n",
    "# Load roll up matrix to calcualte aggreagates:\n",
    "roll_mat_df = pd.read_pickle(file_pass+'roll_mat_df.pkl')\n",
    "roll_index = roll_mat_df.index\n",
    "roll_mat_csr = csr_matrix(roll_mat_df.values)\n",
    "del roll_mat_df"
   ]
  },
  {
   "cell_type": "markdown",
   "metadata": {},
   "source": [
    "### Functions for WRMSSE calculations:"
   ]
  },
  {
   "cell_type": "code",
   "execution_count": 5,
   "metadata": {},
   "outputs": [],
   "source": [
    "# Function to do quick rollups:\n",
    "def rollup(v):\n",
    "    '''\n",
    "    v - np.array of size (30490 rows, n day columns)\n",
    "    v_rolledup - array of size (n, 42840)\n",
    "    '''\n",
    "    return roll_mat_csr*v #(v.T*roll_mat_csr.T).T\n",
    "\n",
    "\n",
    "# Function to calculate WRMSSE:\n",
    "def wrmsse(preds, y_true, score_only=False, s = S, w = W, sw=SW):\n",
    "    '''\n",
    "    preds - Predictions: pd.DataFrame of size (30490 rows, N day columns)\n",
    "    y_true - True values: pd.DataFrame of size (30490 rows, N day columns)\n",
    "    sequence_length - np.array of size (42840,)\n",
    "    sales_weight - sales weights based on last 28 days: np.array (42840,)\n",
    "    '''\n",
    "    \n",
    "    if score_only:\n",
    "        return np.sum(\n",
    "                np.sqrt(\n",
    "                    np.mean(\n",
    "                        np.square(rollup(preds.values-y_true.values))\n",
    "                            ,axis=1)) * sw)/12 #<-used to be mistake here\n",
    "    else: \n",
    "        score_matrix = (np.square(rollup(preds.values-y_true.values)) * np.square(w)[:, None])/ s[:, None]\n",
    "        score = np.sum(np.sqrt(np.mean(score_matrix,axis=1)))/12 #<-used to be mistake here\n",
    "        return score, score_matrix"
   ]
  },
  {
   "cell_type": "markdown",
   "metadata": {},
   "source": [
    "### Load fake predictions:"
   ]
  },
  {
   "cell_type": "code",
   "execution_count": 16,
   "metadata": {},
   "outputs": [
    {
     "name": "stdout",
     "output_type": "stream",
     "text": [
      "(30490, 28)\n"
     ]
    },
    {
     "data": {
      "text/html": [
       "<div>\n",
       "<style scoped>\n",
       "    .dataframe tbody tr th:only-of-type {\n",
       "        vertical-align: middle;\n",
       "    }\n",
       "\n",
       "    .dataframe tbody tr th {\n",
       "        vertical-align: top;\n",
       "    }\n",
       "\n",
       "    .dataframe thead th {\n",
       "        text-align: right;\n",
       "    }\n",
       "</style>\n",
       "<table border=\"1\" class=\"dataframe\">\n",
       "  <thead>\n",
       "    <tr style=\"text-align: right;\">\n",
       "      <th></th>\n",
       "      <th>F1</th>\n",
       "      <th>F2</th>\n",
       "      <th>F3</th>\n",
       "      <th>F4</th>\n",
       "      <th>F5</th>\n",
       "      <th>F6</th>\n",
       "      <th>F7</th>\n",
       "      <th>F8</th>\n",
       "      <th>F9</th>\n",
       "      <th>F10</th>\n",
       "      <th>...</th>\n",
       "      <th>F19</th>\n",
       "      <th>F20</th>\n",
       "      <th>F21</th>\n",
       "      <th>F22</th>\n",
       "      <th>F23</th>\n",
       "      <th>F24</th>\n",
       "      <th>F25</th>\n",
       "      <th>F26</th>\n",
       "      <th>F27</th>\n",
       "      <th>F28</th>\n",
       "    </tr>\n",
       "  </thead>\n",
       "  <tbody>\n",
       "    <tr>\n",
       "      <th>0</th>\n",
       "      <td>1.000000e+00</td>\n",
       "      <td>1.000000e+00</td>\n",
       "      <td>1.000000e+00</td>\n",
       "      <td>1.000000e+00</td>\n",
       "      <td>1.000000e+00</td>\n",
       "      <td>1.000000e+00</td>\n",
       "      <td>1.000000e+00</td>\n",
       "      <td>1.000000e-24</td>\n",
       "      <td>1.000000e-24</td>\n",
       "      <td>1.000000e-24</td>\n",
       "      <td>...</td>\n",
       "      <td>1.000000e-24</td>\n",
       "      <td>1.000000e-24</td>\n",
       "      <td>1.000000e-24</td>\n",
       "      <td>1.000000e-24</td>\n",
       "      <td>1.000000e-24</td>\n",
       "      <td>1.000000e-24</td>\n",
       "      <td>1.000000e-24</td>\n",
       "      <td>1.000000e-24</td>\n",
       "      <td>1.000000e-24</td>\n",
       "      <td>1.000000e-24</td>\n",
       "    </tr>\n",
       "    <tr>\n",
       "      <th>1</th>\n",
       "      <td>1.000000e-24</td>\n",
       "      <td>1.000000e-24</td>\n",
       "      <td>1.000000e-24</td>\n",
       "      <td>1.000000e-24</td>\n",
       "      <td>1.000000e-24</td>\n",
       "      <td>1.000000e-24</td>\n",
       "      <td>1.000000e-24</td>\n",
       "      <td>1.000000e-24</td>\n",
       "      <td>1.000000e-24</td>\n",
       "      <td>1.000000e-24</td>\n",
       "      <td>...</td>\n",
       "      <td>1.000000e-24</td>\n",
       "      <td>1.000000e-24</td>\n",
       "      <td>1.000000e-24</td>\n",
       "      <td>1.000000e-24</td>\n",
       "      <td>1.000000e-24</td>\n",
       "      <td>1.000000e-24</td>\n",
       "      <td>1.000000e-24</td>\n",
       "      <td>1.000000e-24</td>\n",
       "      <td>1.000000e-24</td>\n",
       "      <td>1.000000e-24</td>\n",
       "    </tr>\n",
       "    <tr>\n",
       "      <th>2</th>\n",
       "      <td>1.000000e+00</td>\n",
       "      <td>1.000000e+00</td>\n",
       "      <td>1.000000e+00</td>\n",
       "      <td>1.000000e+00</td>\n",
       "      <td>1.000000e+00</td>\n",
       "      <td>1.000000e+00</td>\n",
       "      <td>1.000000e+00</td>\n",
       "      <td>1.000000e-24</td>\n",
       "      <td>1.000000e-24</td>\n",
       "      <td>1.000000e-24</td>\n",
       "      <td>...</td>\n",
       "      <td>1.000000e-24</td>\n",
       "      <td>1.000000e-24</td>\n",
       "      <td>1.000000e-24</td>\n",
       "      <td>1.000000e-24</td>\n",
       "      <td>1.000000e-24</td>\n",
       "      <td>1.000000e-24</td>\n",
       "      <td>1.000000e-24</td>\n",
       "      <td>1.000000e-24</td>\n",
       "      <td>1.000000e-24</td>\n",
       "      <td>1.000000e-24</td>\n",
       "    </tr>\n",
       "    <tr>\n",
       "      <th>3</th>\n",
       "      <td>2.000000e+00</td>\n",
       "      <td>2.000000e+00</td>\n",
       "      <td>1.000000e+00</td>\n",
       "      <td>1.000000e+00</td>\n",
       "      <td>2.000000e+00</td>\n",
       "      <td>3.000000e+00</td>\n",
       "      <td>2.000000e+00</td>\n",
       "      <td>1.000000e-24</td>\n",
       "      <td>1.000000e-24</td>\n",
       "      <td>1.000000e-24</td>\n",
       "      <td>...</td>\n",
       "      <td>1.000000e+00</td>\n",
       "      <td>1.000000e+00</td>\n",
       "      <td>1.000000e+00</td>\n",
       "      <td>1.000000e+00</td>\n",
       "      <td>1.000000e-24</td>\n",
       "      <td>1.000000e-24</td>\n",
       "      <td>1.000000e-24</td>\n",
       "      <td>1.000000e+00</td>\n",
       "      <td>1.000000e+00</td>\n",
       "      <td>1.000000e-24</td>\n",
       "    </tr>\n",
       "    <tr>\n",
       "      <th>4</th>\n",
       "      <td>1.000000e+00</td>\n",
       "      <td>1.000000e+00</td>\n",
       "      <td>1.000000e+00</td>\n",
       "      <td>1.000000e+00</td>\n",
       "      <td>1.000000e+00</td>\n",
       "      <td>1.000000e+00</td>\n",
       "      <td>2.000000e+00</td>\n",
       "      <td>1.000000e-24</td>\n",
       "      <td>1.000000e-24</td>\n",
       "      <td>1.000000e-24</td>\n",
       "      <td>...</td>\n",
       "      <td>1.000000e-24</td>\n",
       "      <td>1.000000e-24</td>\n",
       "      <td>1.000000e-24</td>\n",
       "      <td>1.000000e-24</td>\n",
       "      <td>1.000000e-24</td>\n",
       "      <td>1.000000e-24</td>\n",
       "      <td>1.000000e-24</td>\n",
       "      <td>1.000000e-24</td>\n",
       "      <td>1.000000e-24</td>\n",
       "      <td>1.000000e-24</td>\n",
       "    </tr>\n",
       "  </tbody>\n",
       "</table>\n",
       "<p>5 rows × 28 columns</p>\n",
       "</div>"
      ],
      "text/plain": [
       "             F1            F2            F3            F4            F5  \\\n",
       "0  1.000000e+00  1.000000e+00  1.000000e+00  1.000000e+00  1.000000e+00   \n",
       "1  1.000000e-24  1.000000e-24  1.000000e-24  1.000000e-24  1.000000e-24   \n",
       "2  1.000000e+00  1.000000e+00  1.000000e+00  1.000000e+00  1.000000e+00   \n",
       "3  2.000000e+00  2.000000e+00  1.000000e+00  1.000000e+00  2.000000e+00   \n",
       "4  1.000000e+00  1.000000e+00  1.000000e+00  1.000000e+00  1.000000e+00   \n",
       "\n",
       "             F6            F7            F8            F9           F10  ...  \\\n",
       "0  1.000000e+00  1.000000e+00  1.000000e-24  1.000000e-24  1.000000e-24  ...   \n",
       "1  1.000000e-24  1.000000e-24  1.000000e-24  1.000000e-24  1.000000e-24  ...   \n",
       "2  1.000000e+00  1.000000e+00  1.000000e-24  1.000000e-24  1.000000e-24  ...   \n",
       "3  3.000000e+00  2.000000e+00  1.000000e-24  1.000000e-24  1.000000e-24  ...   \n",
       "4  1.000000e+00  2.000000e+00  1.000000e-24  1.000000e-24  1.000000e-24  ...   \n",
       "\n",
       "            F19           F20           F21           F22           F23  \\\n",
       "0  1.000000e-24  1.000000e-24  1.000000e-24  1.000000e-24  1.000000e-24   \n",
       "1  1.000000e-24  1.000000e-24  1.000000e-24  1.000000e-24  1.000000e-24   \n",
       "2  1.000000e-24  1.000000e-24  1.000000e-24  1.000000e-24  1.000000e-24   \n",
       "3  1.000000e+00  1.000000e+00  1.000000e+00  1.000000e+00  1.000000e-24   \n",
       "4  1.000000e-24  1.000000e-24  1.000000e-24  1.000000e-24  1.000000e-24   \n",
       "\n",
       "            F24           F25           F26           F27           F28  \n",
       "0  1.000000e-24  1.000000e-24  1.000000e-24  1.000000e-24  1.000000e-24  \n",
       "1  1.000000e-24  1.000000e-24  1.000000e-24  1.000000e-24  1.000000e-24  \n",
       "2  1.000000e-24  1.000000e-24  1.000000e-24  1.000000e-24  1.000000e-24  \n",
       "3  1.000000e-24  1.000000e-24  1.000000e+00  1.000000e+00  1.000000e-24  \n",
       "4  1.000000e-24  1.000000e-24  1.000000e-24  1.000000e-24  1.000000e-24  \n",
       "\n",
       "[5 rows x 28 columns]"
      ]
     },
     "execution_count": 16,
     "metadata": {},
     "output_type": "execute_result"
    }
   ],
   "source": [
    "# Predictions:\n",
    "sub = pd.read_csv('results/2020-05-13_submission.csv')\n",
    "sub = sub[sub.id.str.endswith('validation')]\n",
    "sub.drop(['id'], axis=1, inplace=True)\n",
    "\n",
    "DAYS_PRED = sub.shape[1]    # 28\n",
    "print(sub.shape)\n",
    "sub.head()"
   ]
  },
  {
   "cell_type": "markdown",
   "metadata": {},
   "source": [
    "### Load ground truth:"
   ]
  },
  {
   "cell_type": "code",
   "execution_count": 13,
   "metadata": {},
   "outputs": [],
   "source": [
    "# Ground truth:\n",
    "sales = pd.read_csv('rawdata/sales_train_validation.csv')\n",
    "\n",
    "dayCols = [\"d_{}\".format(i) for i in range(1900-DAYS_PRED, 1900)]\n",
    "y_true = sales[dayCols]"
   ]
  },
  {
   "cell_type": "markdown",
   "metadata": {},
   "source": [
    "### Calculate score:\n",
    "If you just need the score, set Score_only = True for slightly faster calculations."
   ]
  },
  {
   "cell_type": "code",
   "execution_count": 15,
   "metadata": {},
   "outputs": [
    {
     "data": {
      "text/plain": [
       "5.253012490100613"
      ]
     },
     "execution_count": 15,
     "metadata": {},
     "output_type": "execute_result"
    }
   ],
   "source": [
    "score = wrmsse(sub, y_true, score_only=True)\n",
    "score"
   ]
  },
  {
   "cell_type": "code",
   "execution_count": 61,
   "metadata": {},
   "outputs": [
    {
     "name": "stdout",
     "output_type": "stream",
     "text": [
      "20 ms ± 103 µs per loop (mean ± std. dev. of 5 runs, 100 loops each)\n"
     ]
    }
   ],
   "source": [
    "%%timeit -n 100 -r 5\n",
    "# n - execute the statement n times \n",
    "# r - repeat each loop r times and return the best\n",
    "\n",
    "score1, score_matrix = wrmsse(sub, y_true)"
   ]
  },
  {
   "cell_type": "markdown",
   "metadata": {},
   "source": [
    "### Score df for visualizations:\n",
    "score_matrix is only needed for EDA and visualizations."
   ]
  },
  {
   "cell_type": "code",
   "execution_count": 62,
   "metadata": {},
   "outputs": [
    {
     "data": {
      "text/plain": [
       "5.288906059212606"
      ]
     },
     "execution_count": 62,
     "metadata": {},
     "output_type": "execute_result"
    }
   ],
   "source": [
    "score = wrmsse(sub, y_true, score_only=True)\n",
    "score"
   ]
  },
  {
   "cell_type": "code",
   "execution_count": 63,
   "metadata": {},
   "outputs": [
    {
     "data": {
      "text/plain": [
       "5.288906059212606"
      ]
     },
     "execution_count": 63,
     "metadata": {},
     "output_type": "execute_result"
    }
   ],
   "source": [
    "score1, score_matrix = wrmsse(sub, y_true)\n",
    "score_df = pd.DataFrame(score_matrix, index = roll_index)\n",
    "score_df.reset_index(inplace=True)\n",
    "score_df.head()\n",
    "score1"
   ]
  },
  {
   "cell_type": "code",
   "execution_count": null,
   "metadata": {},
   "outputs": [],
   "source": []
  }
 ],
 "metadata": {
  "kernelspec": {
   "display_name": "Python 3",
   "language": "python",
   "name": "python3"
  },
  "language_info": {
   "codemirror_mode": {
    "name": "ipython",
    "version": 3
   },
   "file_extension": ".py",
   "mimetype": "text/x-python",
   "name": "python",
   "nbconvert_exporter": "python",
   "pygments_lexer": "ipython3",
   "version": "3.7.3"
  }
 },
 "nbformat": 4,
 "nbformat_minor": 4
}
